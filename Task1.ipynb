{
 "cells": [
  {
   "cell_type": "code",
   "execution_count": 1,
   "id": "2914501e-d0dd-4ecb-9e67-ddc9a7b8febd",
   "metadata": {},
   "outputs": [
    {
     "name": "stdout",
     "output_type": "stream",
     "text": [
      "UPDATED : ['first', 2, 4, 'new']\n"
     ]
    }
   ],
   "source": [
    "#LIST\n",
    "list = [1, 2, 3, 4]\n",
    "\n",
    "list.append(\"new\")\n",
    "\n",
    "list.remove(3)\n",
    "\n",
    "list[0] = \"first\"\n",
    "\n",
    "print(\"UPDATED :\", list)"
   ]
  },
  {
   "cell_type": "code",
   "execution_count": 2,
   "id": "2fd34656-e008-43db-81e3-7f4c1cc8ec3d",
   "metadata": {},
   "outputs": [
    {
     "name": "stdout",
     "output_type": "stream",
     "text": [
      "UPDATED : {'name': 'vedant', 'city': 'mumbai', 'gender': 'male'}\n"
     ]
    }
   ],
   "source": [
    "#DICTIONARIES\n",
    "dict = {'name': 'vedant', 'age': 23, 'city': 'pune'}\n",
    "\n",
    "dict['gender'] = 'male'\n",
    "\n",
    "del dict['age']\n",
    "\n",
    "dict['city'] = 'mumbai'\n",
    "\n",
    "print(\"UPDATED :\",dict)"
   ]
  },
  {
   "cell_type": "code",
   "execution_count": 4,
   "id": "a71b7dbb-8cd8-44ef-9711-6f2b9e235c42",
   "metadata": {},
   "outputs": [
    {
     "name": "stdout",
     "output_type": "stream",
     "text": [
      "Updated Set : {2, 3, 4, 7}\n"
     ]
    }
   ],
   "source": [
    "#SET\n",
    "set = {1, 2, 3}\n",
    "\n",
    "set.add(4)\n",
    "\n",
    "set.remove(1)\n",
    "\n",
    "set.add(7)\n",
    "\n",
    "print('Updated Set :', set)"
   ]
  },
  {
   "cell_type": "code",
   "execution_count": null,
   "id": "84ea6c33-a753-41c3-9778-dae911077c7a",
   "metadata": {},
   "outputs": [],
   "source": []
  }
 ],
 "metadata": {
  "kernelspec": {
   "display_name": "Python 3 (ipykernel)",
   "language": "python",
   "name": "python3"
  },
  "language_info": {
   "codemirror_mode": {
    "name": "ipython",
    "version": 3
   },
   "file_extension": ".py",
   "mimetype": "text/x-python",
   "name": "python",
   "nbconvert_exporter": "python",
   "pygments_lexer": "ipython3",
   "version": "3.12.4"
  }
 },
 "nbformat": 4,
 "nbformat_minor": 5
}
